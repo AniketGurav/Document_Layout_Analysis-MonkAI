{
 "cells": [
  {
   "cell_type": "markdown",
   "metadata": {},
   "source": [
    "# Step - 1: Calculating Mean and Std of dataset"
   ]
  },
  {
   "cell_type": "code",
   "execution_count": 1,
   "metadata": {},
   "outputs": [],
   "source": [
    "import os\n",
    "import sys\n",
    "import cv2\n",
    "import numpy as np\n",
    "import pandas as pd\n",
    "from PIL import Image\n",
    "import glob\n",
    "import matplotlib.pyplot as plt\n",
    "import xmltodict\n",
    "import json\n",
    "from tqdm.notebook import tqdm\n",
    "\n",
    "from pycocotools.coco import COCO"
   ]
  },
  {
   "cell_type": "code",
   "execution_count": 2,
   "metadata": {},
   "outputs": [],
   "source": [
    "root_dir = \"PRImA_Layout_Analysis_Dataset/\";\n",
    "img_dir = \"Images/\";\n",
    "anno_dir = \"XML/\";\n",
    "final_root_dir=\"Document_Layout_Analysis/\"\n",
    "files = os.listdir(root_dir + img_dir);"
   ]
  },
  {
   "cell_type": "code",
   "execution_count": 3,
   "metadata": {},
   "outputs": [],
   "source": [
    "def normalize():\n",
    "    channel_sum = np.zeros(3)\n",
    "    channel_sum_squared = np.zeros(3)\n",
    "    num_pixels=0\n",
    "    count=0\n",
    "    for file in files:\n",
    "        file_path=root_dir+img_dir+file\n",
    "        img=cv2.imread(file_path)\n",
    "        img= img/255.\n",
    "        num_pixels += (img.size/3)\n",
    "        channel_sum += np.sum(img, axis=(0, 1))\n",
    "        channel_sum_squared += np.sum(np.square(img), axis=(0, 1))\n",
    "\n",
    "    mean = channel_sum / num_pixels\n",
    "    std = np.sqrt((channel_sum_squared/num_pixels) - mean**2)\n",
    "    rgb_mean = list(mean)[::-1]\n",
    "    rgb_std = list(std)[::-1]\n",
    "    return rgb_mean, rgb_std"
   ]
  },
  {
   "cell_type": "code",
   "execution_count": 5,
   "metadata": {},
   "outputs": [
    {
     "name": "stdout",
     "output_type": "stream",
     "text": [
      "[205.4947792530714, 210.0757122321346, 205.5501630335441]\n",
      "[0.2429826679074847, 0.24957906533432994, 0.2625039283385689]\n"
     ]
    }
   ],
   "source": [
    "mean, std = normalize()\n",
    "mean=[x*255 for x in mean]\n",
    "print(mean)\n",
    "print(std)"
   ]
  },
  {
   "cell_type": "code",
   "execution_count": 5,
   "metadata": {},
   "outputs": [],
   "source": [
    "#[205.4947792530714, 210.0757122321346, 205.5501630335441]\n",
    "#[0.2429826679074847, 0.24957906533432994, 0.2625039283385689]"
   ]
  },
  {
   "cell_type": "code",
   "execution_count": null,
   "metadata": {},
   "outputs": [],
   "source": []
  },
  {
   "cell_type": "markdown",
   "metadata": {},
   "source": [
    "# Step 2: TIFF to JPEG"
   ]
  },
  {
   "cell_type": "code",
   "execution_count": 4,
   "metadata": {},
   "outputs": [],
   "source": [
    "from PIL import Image\n",
    "import glob\n",
    "\n",
    "for name in glob.glob(root_dir+img_dir+'*.tif'):\n",
    "    im = Image.open(name)\n",
    "    name = str(name).rstrip(\".tif\")\n",
    "    name = str(name).lstrip(root_dir)\n",
    "    name = str(name).lstrip(img_dir)\n",
    "    im.save(final_root_dir+ img_dir+ name + '.jpg', 'JPEG')"
   ]
  },
  {
   "cell_type": "markdown",
   "metadata": {},
   "source": [
    "# Step 3: Selective Data Augmentation and VOC to Monk Type\n",
    "- Later on Monk Format type be converted to any Format type as per the model"
   ]
  },
  {
   "cell_type": "markdown",
   "metadata": {},
   "source": [
    "# VOC Format\n",
    "\n",
    "## Dataset Directory Structure\n",
    "\n",
    "    home/PRImA Layout Analysis Dataset/ (root_dir)\n",
    "          |\n",
    "          |-----------Images (img_dir)\n",
    "          |              |\n",
    "          |              |------------------img1.jpg\n",
    "          |              |------------------img2.jpg\n",
    "          |              |------------------.........(and so on)\n",
    "          |\n",
    "          |\n",
    "          |-----------Annotations (anno_dir)\n",
    "          |              |\n",
    "          |              |------------------img1.xml\n",
    "          |              |------------------img2.xml\n",
    "          |              |------------------.........(and so on)\n",
    "          \n"
   ]
  },
  {
   "cell_type": "markdown",
   "metadata": {},
   "source": [
    "# Monk Format\n",
    "\n",
    "## Dataset Directory Structure\n",
    "\n",
    "    home/PRImA Layout Analysis Dataset/ (root_dir)\n",
    "          |\n",
    "          |-----------Images (img_dir)\n",
    "          |              |\n",
    "          |              |------------------img1.jpg\n",
    "          |              |------------------img2.jpg\n",
    "          |              |------------------.........(and so on)\n",
    "          |\n",
    "          |\n",
    "          |-----------train_labels.csv (anno_file)\n",
    "          \n",
    "          \n",
    "## Annotation file format\n",
    "\n",
    "           | Id         | Labels                                 |\n",
    "           | img1.jpg   | x1 y1 x2 y2 label1 x1 y1 x2 y2 label2  |\n",
    "           \n",
    "- Labels:  xmin ymin xmax ymax label\n",
    "- xmin, ymin - top left corner of bounding box\n",
    "- xmax, ymax - bottom right corner of bounding box"
   ]
  },
  {
   "cell_type": "code",
   "execution_count": 5,
   "metadata": {},
   "outputs": [],
   "source": [
    "files = os.listdir(root_dir + anno_dir);"
   ]
  },
  {
   "cell_type": "code",
   "execution_count": 6,
   "metadata": {},
   "outputs": [],
   "source": [
    "combined = [];"
   ]
  },
  {
   "cell_type": "code",
   "execution_count": 7,
   "metadata": {},
   "outputs": [],
   "source": [
    "def augmentData(fname, labels):\n",
    "    image = cv2.imread(final_root_dir+img_dir+fname)\n",
    "    \n",
    "    height, width = image.shape[:2] \n",
    "    quarter_height, quarter_width = height / 4, width / 4\n",
    "    down_trans=np.random.randint(10, quarter_height+1)\n",
    "    up_trans=np.random.randint(-1*quarter_height, -10)\n",
    "    right_trans=np.random.randint(10, quarter_width+1)\n",
    "    left_trans=np.random.randint(-1*quarter_width, -10)\n",
    "    \n",
    "    T1 = np.float32([[1, 0, right_trans], [0, 1, up_trans]])\n",
    "    T2 = np.float32([[1, 0, left_trans], [0, 1, down_trans]])\n",
    "    T3 = np.float32([[1, 0, right_trans], [0, 1, down_trans]])\n",
    "    T4 = np.float32([[1, 0, left_trans], [0, 1, up_trans]])\n",
    "    \n",
    "    img_translation1 = cv2.warpAffine(image, T1, (width, height)) \n",
    "    img_translation2 = cv2.warpAffine(image, T2, (width, height)) \n",
    "    img_translation3 = cv2.warpAffine(image, T3, (width, height)) \n",
    "    img_translation4 = cv2.warpAffine(image, T4, (width, height)) \n",
    "    \n",
    "    cv2.imwrite(final_root_dir+img_dir+'1'+fname, img_translation1)\n",
    "    cv2.imwrite(final_root_dir+img_dir+'2'+fname, img_translation2)\n",
    "    cv2.imwrite(final_root_dir+img_dir+'3'+fname, img_translation3)\n",
    "    cv2.imwrite(final_root_dir+img_dir+'4'+fname, img_translation4)\n",
    "    \n",
    "    tmp = labels.split(\" \");\n",
    "    label1=\"\"\n",
    "    label2=\"\"\n",
    "    label3=\"\"\n",
    "    label4=\"\"\n",
    "    for j in range(len(tmp)//5):\n",
    "        x1 = float(tmp[j*5 + 0]);\n",
    "        y1 = float(tmp[j*5 + 1]);\n",
    "        x2 = float(tmp[j*5 + 2]);\n",
    "        y2 = float(tmp[j*5 + 3]);\n",
    "        label = tmp[j*5 + 4];\n",
    "        \n",
    "        xr1= min(x1+right_trans, width)\n",
    "        xr2= min(x2+right_trans, width)\n",
    "        xl1= max(x1+left_trans,0)\n",
    "        xl2= max(x2+left_trans,0)\n",
    "        yu1= max(y1+up_trans,0)\n",
    "        yu2= max(y2+up_trans,0)\n",
    "        yd1= min(y1+down_trans, height)\n",
    "        yd2= min(y2+down_trans, height)\n",
    "        \n",
    "        if(xr1!=xr2 and yu1!=yu2):\n",
    "                label1+= str(int(xr1))+' '+str(int(yu1))+' '+str(int(xr2))+' '+str(int(yu2))+' '+label+' '\n",
    "        if(xr1!=xr2 and yd1!=yd2):\n",
    "                label3+= str(int(xr1))+' '+str(int(yd1))+' '+str(int(xr2))+' '+str(int(yd2))+' '+label+' '\n",
    "        if(xl1!=xl2 and yu1!=yu2):\n",
    "                label4+= str(int(xl1))+' '+str(int(yu1))+' '+str(int(xl2))+' '+str(int(yu2))+' '+label+' '\n",
    "        if(xl1!=xl2 and yd1!=yd2):\n",
    "                label2+= str(int(xl1))+' '+str(int(yd1))+' '+str(int(xl2))+' '+str(int(yd2))+' '+label+' '\n",
    "                \n",
    "    label1=label1[:-1]\n",
    "    label2=label2[:-1]\n",
    "    label3=label3[:-1]\n",
    "    label4=label4[:-1]\n",
    "    \n",
    "    combined.append(['1'+fname, label1])\n",
    "    combined.append(['2'+fname, label2])\n",
    "    combined.append(['3'+fname, label3])\n",
    "    combined.append(['4'+fname, label4])\n",
    "        \n",
    "        "
   ]
  },
  {
   "cell_type": "code",
   "execution_count": 8,
   "metadata": {
    "scrolled": true
   },
   "outputs": [
    {
     "data": {
      "application/vnd.jupyter.widget-view+json": {
       "model_id": "6d43f86ccc6f4b7fbac564f2fc9f5c99",
       "version_major": 2,
       "version_minor": 0
      },
      "text/plain": [
       "HBox(children=(FloatProgress(value=0.0, max=475.0), HTML(value='')))"
      ]
     },
     "metadata": {},
     "output_type": "display_data"
    },
    {
     "name": "stdout",
     "output_type": "stream",
     "text": [
      "\n"
     ]
    }
   ],
   "source": [
    "for i in tqdm(range(len(files))):\n",
    "    augment=False;\n",
    "    annoFile = root_dir + anno_dir + files[i];\n",
    "    f = open(annoFile, 'r');\n",
    "    my_xml = f.read();\n",
    "    anno= dict(dict(dict(xmltodict.parse(my_xml))['PcGts'])['Page'])\n",
    "    fname=\"\"\n",
    "    for j in range(len(files[i])):\n",
    "        if((files[i][j])>='0' and files[i][j]<='9'):\n",
    "            fname+=files[i][j];\n",
    "    fname+=\".jpg\"\n",
    "    \n",
    "    label_str = \"\"\n",
    "    for key in anno.keys():\n",
    "        if(key=='@imageFilename' or key=='@imageWidth' or key=='@imageHeight'):\n",
    "            continue\n",
    "        if(key==\"TextRegion\"):\n",
    "            if(type(anno[\"TextRegion\"]) == list):\n",
    "                for j in range(len(anno[\"TextRegion\"])):\n",
    "                    text=anno[\"TextRegion\"][j]\n",
    "                    xmin=int(anno['@imageWidth'])\n",
    "                    ymin=int(anno['@imageHeight'])\n",
    "                    xmax=0\n",
    "                    ymax=0\n",
    "                    if(text[\"Coords\"]):\n",
    "                        if(text[\"Coords\"][\"Point\"]):\n",
    "                            for k in range(len(text[\"Coords\"][\"Point\"])):\n",
    "                                coordinates=anno[\"TextRegion\"][j][\"Coords\"][\"Point\"][k]\n",
    "                                xmin= min(xmin, int(coordinates['@x']));\n",
    "                                ymin= min(ymin, int(coordinates['@y']));\n",
    "                                xmax= max(xmax, int(coordinates['@x']));\n",
    "                                ymax= max(ymax, int(coordinates['@y']));\n",
    "                            if('@type' in text.keys()):    \n",
    "                                label_str+= str(xmin)+' '+str(ymin)+' '+str(xmax)+' '+str(ymax)+' '+text['@type']+' '\n",
    "            else:\n",
    "                text=anno[\"TextRegion\"]\n",
    "                xmin=int(anno['@imageWidth'])\n",
    "                ymin=int(anno['@imageHeight'])\n",
    "                xmax=0\n",
    "                ymax=0\n",
    "                if(text[\"Coords\"]):\n",
    "                    if(text[\"Coords\"][\"Point\"]):\n",
    "                        for k in range(len(text[\"Coords\"][\"Point\"])):\n",
    "                            coordinates=anno[\"TextRegion\"][\"Coords\"][\"Point\"][k]\n",
    "                            xmin= min(xmin, int(coordinates['@x']));\n",
    "                            ymin= min(ymin, int(coordinates['@y']));\n",
    "                            xmax= max(xmax, int(coordinates['@x']));\n",
    "                            ymax= max(ymax, int(coordinates['@y']));\n",
    "                        if('@type' in text.keys()):    \n",
    "                            label_str+= str(xmin)+' '+str(ymin)+' '+str(xmax)+' '+str(ymax)+' '+text['@type']+' '\n",
    "        \n",
    "        else:\n",
    "            val=\"\"\n",
    "            if(key=='GraphicRegion'):\n",
    "                val=\"graphics\"\n",
    "                augment=True\n",
    "            elif(key=='ImageRegion'):\n",
    "                val=\"image\"\n",
    "            elif(key=='NoiseRegion'):\n",
    "                val=\"noise\"\n",
    "                augment=True\n",
    "            elif(key=='ChartRegion'):\n",
    "                val=\"chart\"\n",
    "                augment=True\n",
    "            elif(key=='TableRegion'):\n",
    "                val=\"table\"\n",
    "                augment=True\n",
    "            elif(key=='SeparatorRegion'):\n",
    "                val=\"separator\"\n",
    "            elif(key=='MathsRegion'):\n",
    "                val=\"maths\"\n",
    "                augment=True\n",
    "            elif(key=='LineDrawingRegion'):\n",
    "                val=\"linedrawing\"\n",
    "                augment=True\n",
    "            else:\n",
    "                val=\"frame\"\n",
    "                augment=True\n",
    "\n",
    "            \n",
    "            if(type(anno[key]) == list):\n",
    "                for j in range(len(anno[key])):\n",
    "                    text=anno[key][j]\n",
    "                    xmin=int(anno['@imageWidth'])\n",
    "                    ymin=int(anno['@imageHeight'])\n",
    "                    xmax=0\n",
    "                    ymax=0\n",
    "                    if(text[\"Coords\"]):\n",
    "                        if(text[\"Coords\"][\"Point\"]):\n",
    "                            for k in range(len(text[\"Coords\"][\"Point\"])):\n",
    "                                coordinates=anno[key][j][\"Coords\"][\"Point\"][k]\n",
    "                                xmin= min(xmin, int(coordinates['@x']));\n",
    "                                ymin= min(ymin, int(coordinates['@y']));\n",
    "                                xmax= max(xmax, int(coordinates['@x']));\n",
    "                                ymax= max(ymax, int(coordinates['@y']));\n",
    "                        label_str+= str(xmin)+' '+str(ymin)+' '+str(xmax)+' '+str(ymax)+' '+ val +' '\n",
    "            else:\n",
    "                text=anno[key]\n",
    "                xmin=int(anno['@imageWidth'])\n",
    "                ymin=int(anno['@imageHeight'])\n",
    "                xmax=0\n",
    "                ymax=0\n",
    "                if(text[\"Coords\"]):\n",
    "                    if(text[\"Coords\"][\"Point\"]):\n",
    "                        for k in range(len(text[\"Coords\"][\"Point\"])):\n",
    "                            coordinates=anno[key][\"Coords\"][\"Point\"][k]\n",
    "                            xmin= min(xmin, int(coordinates['@x']));\n",
    "                            ymin= min(ymin, int(coordinates['@y']));\n",
    "                            xmax= max(xmax, int(coordinates['@x']));\n",
    "                            ymax= max(ymax, int(coordinates['@y']));  \n",
    "                        label_str+= str(xmin)+' '+str(ymin)+' '+str(xmax)+' '+str(ymax)+' '+val+' '\n",
    "\n",
    "    label_str=label_str[:-1]\n",
    "    combined.append([fname, label_str])\n",
    "    if(augment):\n",
    "        augmentData(fname, label_str)\n",
    "        "
   ]
  },
  {
   "cell_type": "code",
   "execution_count": 9,
   "metadata": {},
   "outputs": [],
   "source": [
    "df = pd.DataFrame(combined, columns = ['ID', 'Label']);\n",
    "df.to_csv(final_root_dir + \"/train_labels.csv\", index=False);"
   ]
  },
  {
   "cell_type": "code",
   "execution_count": 10,
   "metadata": {},
   "outputs": [
    {
     "name": "stdout",
     "output_type": "stream",
     "text": [
      "{'header': 416, 'paragraph': 19568, 'caption': 1394, 'drop-capital': 507, 'footer': 1111, 'image': 1972, 'noise': 246, 'heading': 3447, 'credit': 790, 'page-number': 833, 'floating': 1004, 'separator': 3344, 'chart': 206, 'graphics': 1436, 'table': 236, 'maths': 200, 'linedrawing': 70, 'frame': 61}\n",
      "1783\n"
     ]
    }
   ],
   "source": [
    "counts = dict()\n",
    "count=0\n",
    "for ID, labels in combined:\n",
    "    count+=1;\n",
    "    tmp = labels.split(\" \");\n",
    "    for j in range(len(tmp)//5):\n",
    "        word = tmp[j*5 + 4];\n",
    "        if word in counts:\n",
    "            counts[word] += 1\n",
    "        else:\n",
    "            counts[word] = 1\n",
    "print(counts) \n",
    "print(count)"
   ]
  },
  {
   "cell_type": "code",
   "execution_count": null,
   "metadata": {},
   "outputs": [],
   "source": []
  },
  {
   "cell_type": "code",
   "execution_count": null,
   "metadata": {},
   "outputs": [],
   "source": []
  },
  {
   "cell_type": "code",
   "execution_count": null,
   "metadata": {},
   "outputs": [],
   "source": []
  },
  {
   "cell_type": "code",
   "execution_count": null,
   "metadata": {},
   "outputs": [],
   "source": []
  }
 ],
 "metadata": {
  "kernelspec": {
   "display_name": "Python 3",
   "language": "python",
   "name": "python3"
  },
  "language_info": {
   "codemirror_mode": {
    "name": "ipython",
    "version": 3
   },
   "file_extension": ".py",
   "mimetype": "text/x-python",
   "name": "python",
   "nbconvert_exporter": "python",
   "pygments_lexer": "ipython3",
   "version": "3.6.10"
  }
 },
 "nbformat": 4,
 "nbformat_minor": 4
}
